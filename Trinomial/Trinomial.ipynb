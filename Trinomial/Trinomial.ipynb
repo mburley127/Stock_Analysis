{
 "cells": [
  {
   "cell_type": "code",
   "execution_count": 1,
   "metadata": {},
   "outputs": [],
   "source": [
    "### Library Import Initialization\n",
    "\n",
    "import numpy as np\n",
    "import math\n",
    "import pandas as pd\n",
    "import yfinance as yf\n",
    "import matplotlib.pyplot as plt\n",
    "import seaborn as sns\n",
    "from scipy.stats import norm\n",
    "import warnings\n",
    "warnings.filterwarnings(\"ignore\")"
   ]
  },
  {
   "cell_type": "code",
   "execution_count": 2,
   "metadata": {},
   "outputs": [
    {
     "name": "stderr",
     "output_type": "stream",
     "text": [
      "[*********************100%%**********************]  1 of 1 completed\n"
     ]
    },
    {
     "data": {
      "text/plain": [
       "135.24000549316406"
      ]
     },
     "execution_count": 2,
     "metadata": {},
     "output_type": "execute_result"
    }
   ],
   "source": [
    "### Function to Import Stock Tickers and Calculate Final Stock Price\n",
    "\n",
    "def import_stock_data(tickers, start_date):\n",
    "    data = pd.DataFrame()\n",
    "    if len([tickers]) == 1:\n",
    "        data[tickers] = yf.download(tickers, start_date)['Adj Close']\n",
    "        data = pd.DataFrame(data)\n",
    "    else:\n",
    "        for t in tickers:\n",
    "            data[t] = yf.download(tickers, start_date)['Adj Close']\n",
    "    return data\n",
    "\n",
    "tickers = 'GOOG'\n",
    "stock_data = import_stock_data(tickers, '2018-01-01')\n",
    "# Get the Current Stock Price (Starting Node of Tree)\n",
    "S_0 = stock_data[tickers].iloc[-1]\n",
    "S_0"
   ]
  },
  {
   "cell_type": "code",
   "execution_count": 3,
   "metadata": {},
   "outputs": [
    {
     "data": {
      "text/plain": [
       "GOOG    0.326099\n",
       "dtype: float64"
      ]
     },
     "execution_count": 3,
     "metadata": {},
     "output_type": "execute_result"
    }
   ],
   "source": [
    "### Sigma Calculation \n",
    "\n",
    "def compute_sigma(data):\n",
    "    # Compute the standard deviation of returns\n",
    "    sigma = np.std(data) / 100\n",
    "    return sigma\n",
    "\n",
    "sigma = compute_sigma(stock_data)\n",
    "sigma"
   ]
  },
  {
   "cell_type": "code",
   "execution_count": 4,
   "metadata": {},
   "outputs": [],
   "source": [
    "### Function to Compute the Trinomial Model Option Price\n",
    "\n",
    "def trinomial_model(S_0, K, T, r, sigma, option_type = 'call', n = 1000):\n",
    "    \"\"\"\n",
    "    Parameters:\n",
    "    S_0 (float): Current stock price (starting node of tree)\n",
    "    K (float): Strike price of the option\n",
    "    T (float): Time to expiration (in years)\n",
    "    r (float): Risk-free interest rate\n",
    "    sigma (float): Volatility of the underlying stock\n",
    "    option_type (str): Type of option ('call' or 'put')\n",
    "    n (int): Number of steps in the binomial tree\n",
    "    Returns:\n",
    "    float: Option price\n",
    "    \"\"\"\n",
    "    # Compute Delta T\n",
    "    dt = T / n\n",
    "    # Compute up and down parameters\n",
    "    u = np.exp(sigma * np.sqrt(3 * dt))\n",
    "    d = 1 / u\n",
    "\n",
    "    # Compute probability of Increase, Decrease, and No Change\n",
    "    p_u = np.sqrt(dt / (12 * sigma**2)) * (r - (1/2 * sigma**2) + 1/6)\n",
    "    p_d = -np.sqrt(dt / (12 * sigma**2)) * (r - (1/2 * sigma**2) + 1/6)\n",
    "    p_m = 1 - p_u - p_d\n",
    "\n",
    "    # Init arrays for strike prices and option values\n",
    "    S_n = np.zeros(n + 1)\n",
    "    option_values = np.zeros(n + 1)\n",
    "\n",
    "    # Generate the stock prices at each node S_n (points on Trinomial Tree)\n",
    "    ''' \n",
    "    The expression essentially computes the stock price at node n by starting from the initial price S_0​ and multiplying it by the \n",
    "    factors u and d corresponding to the number of up and down movements, respectively, needed to reach node n.\n",
    "    S_n​ = S_0 * u^m * d^(n−m)\n",
    "    m (int): Number of up movements from the initial node to node n, calculated as m = n - i\n",
    "    '''\n",
    "    "
   ]
  }
 ],
 "metadata": {
  "kernelspec": {
   "display_name": "base",
   "language": "python",
   "name": "python3"
  },
  "language_info": {
   "codemirror_mode": {
    "name": "ipython",
    "version": 3
   },
   "file_extension": ".py",
   "mimetype": "text/x-python",
   "name": "python",
   "nbconvert_exporter": "python",
   "pygments_lexer": "ipython3",
   "version": "3.8.18"
  }
 },
 "nbformat": 4,
 "nbformat_minor": 2
}
