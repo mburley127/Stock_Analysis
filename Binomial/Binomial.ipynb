{
 "cells": [
  {
   "cell_type": "code",
   "execution_count": 35,
   "metadata": {},
   "outputs": [],
   "source": [
    "### Library Import Initialization\n",
    "\n",
    "import numpy as np\n",
    "import math\n",
    "import pandas as pd\n",
    "import yfinance as yf\n",
    "import matplotlib.pyplot as plt\n",
    "import seaborn as sns\n",
    "from scipy.stats import norm"
   ]
  },
  {
   "cell_type": "code",
   "execution_count": 36,
   "metadata": {},
   "outputs": [
    {
     "name": "stderr",
     "output_type": "stream",
     "text": [
      "[*********************100%%**********************]  1 of 1 completed\n"
     ]
    },
    {
     "data": {
      "text/plain": [
       "134.1999969482422"
      ]
     },
     "execution_count": 36,
     "metadata": {},
     "output_type": "execute_result"
    }
   ],
   "source": [
    "### Function to Import Stock Tickers and Calculate Final Stock Price\n",
    "\n",
    "def import_stock_data(tickers, start_date):\n",
    "    data = pd.DataFrame()\n",
    "    if len([tickers]) == 1:\n",
    "        data[tickers] = yf.download(tickers, start_date)['Adj Close']\n",
    "        data = pd.DataFrame(data)\n",
    "    else:\n",
    "        for t in tickers:\n",
    "            data[t] = yf.download(tickers, start_date)['Adj Close']\n",
    "    return data\n",
    "\n",
    "tickers = 'GOOG'\n",
    "stock_data = import_stock_data(tickers, '2018-01-01')\n",
    "# Get the Current Stock Price (Starting Node of Tree)\n",
    "S_0 = stock_data[tickers].iloc[-1]\n",
    "S_0"
   ]
  },
  {
   "cell_type": "code",
   "execution_count": 37,
   "metadata": {},
   "outputs": [
    {
     "data": {
      "text/plain": [
       "GOOG    0.32592\n",
       "dtype: float64"
      ]
     },
     "execution_count": 37,
     "metadata": {},
     "output_type": "execute_result"
    }
   ],
   "source": [
    "### Sigma Calculation \n",
    "\n",
    "def compute_sigma(data):\n",
    "    # Compute the standard deviation of returns\n",
    "    sigma = np.std(data) / 100\n",
    "    return sigma\n",
    "\n",
    "sigma = compute_sigma(stock_data)\n",
    "sigma\n"
   ]
  },
  {
   "cell_type": "code",
   "execution_count": 40,
   "metadata": {},
   "outputs": [
    {
     "name": "stderr",
     "output_type": "stream",
     "text": [
      "/var/folders/n5/bknqp6qs37l5l4bwv9wv3bs40000gn/T/ipykernel_76907/670407757.py:34: FutureWarning: Calling float on a single element Series is deprecated and will raise a TypeError in the future. Use float(ser.iloc[0]) instead\n",
      "  S_n[i] = S_0 * (u**(n - i)) * (d**(n - (n - i)))\n",
      "/var/folders/n5/bknqp6qs37l5l4bwv9wv3bs40000gn/T/ipykernel_76907/670407757.py:50: FutureWarning: Calling float on a single element Series is deprecated and will raise a TypeError in the future. Use float(ser.iloc[0]) instead\n",
      "  option_values[i] = (np.exp(r * dt) * ((p * option_values[i+1]) + (1-p) * option_values[i]))\n"
     ]
    },
    {
     "name": "stdout",
     "output_type": "stream",
     "text": [
      "52.45344349948668\n"
     ]
    }
   ],
   "source": [
    "### Function to Compute the Binomial Expected Value \n",
    "\n",
    "def binomial_model(S_0, K, T, r, sigma, option_type = 'call', n = 1000):\n",
    "    \"\"\"\n",
    "    Parameters:\n",
    "    S_0 (float): Current stock price (starting node of tree)\n",
    "    K (float): Strike price of the option\n",
    "    T (float): Time to expiration (in years)\n",
    "    r (float): Risk-free interest rate\n",
    "    sigma (float): Volatility of the underlying stock\n",
    "    option_type (str): Type of option ('call' or 'put')\n",
    "    n (int): Number of steps in the binomial tree\n",
    "    Returns:\n",
    "    float: Option price\n",
    "    \"\"\"\n",
    "    # Compute Delta T\n",
    "    dt = T / n\n",
    "    # Compute up and down parameters\n",
    "    u = np.exp(sigma * np.sqrt(dt))\n",
    "    d = np.exp(-sigma * np.sqrt(dt))\n",
    "    # Compute probability of Increase\n",
    "    p = (np.exp(r * dt) - d) / (u - d)\n",
    "\n",
    "    # Init arrays for strike prices and option values\n",
    "    S_n = np.zeros(n + 1)\n",
    "    option_values = np.zeros(n + 1)\n",
    "\n",
    "    # Generate the stock prices at each node S_n (points on Binomial Tree)\n",
    "    ''' \n",
    "    S_n​ = S_0 * u^m * d^(n−m)\n",
    "    m (int): Number of up movements from the initial node to node n, calculated as m = n - i\n",
    "    '''\n",
    "    for i in range(n + 1):\n",
    "        S_n[i] = S_0 * (u**(n - i)) * (d**(n - (n - i)))\n",
    "\n",
    "    # Compute the option value (intrinsic value) at the final node\n",
    "    for i in range(n + 1):\n",
    "        if option_type == 'call':\n",
    "            option_values[i] = max((S_n[i] - K), 0)\n",
    "\n",
    "        if option_type == 'put':    \n",
    "            option_values[i] = max((K - S_n[i]), 0)\n",
    "    #return option_values\n",
    "\n",
    "    # Recursively iterate through the tree backwards to compute the option values at previous nodes\n",
    "    # Outer  loop iterates over the time steps of the binomial tree in reverse order, starting from the last time step (n) and ending at the first time step (1)\n",
    "    for j in range(n, 0, -1):\n",
    "    # Inner loop iterates over each node at each time step\n",
    "        for i in range(j):\n",
    "            option_values[i] = (np.exp(r * dt) * ((p * option_values[i+1]) + (1-p) * option_values[i]))\n",
    "                            \n",
    "    # Return the first value of the option values array, which is the current option price\n",
    "    return option_values[0]\n",
    "\n",
    "### Function Output\n",
    "options = binomial_model(S_0, 100, 1.2, 0.025, sigma, option_type = 'call', n = 1000)\n",
    "print(options)"
   ]
  }
 ],
 "metadata": {
  "kernelspec": {
   "display_name": "base",
   "language": "python",
   "name": "python3"
  },
  "language_info": {
   "codemirror_mode": {
    "name": "ipython",
    "version": 3
   },
   "file_extension": ".py",
   "mimetype": "text/x-python",
   "name": "python",
   "nbconvert_exporter": "python",
   "pygments_lexer": "ipython3",
   "version": "3.8.18"
  }
 },
 "nbformat": 4,
 "nbformat_minor": 2
}
