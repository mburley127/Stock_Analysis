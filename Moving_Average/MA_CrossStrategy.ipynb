{
 "cells": [
  {
   "cell_type": "code",
   "execution_count": 1,
   "metadata": {},
   "outputs": [],
   "source": [
    "### Library Imports\n",
    "\n",
    "import pandas as pd\n",
    "import numpy as np\n",
    "import math \n",
    "import seaborn as sns \n",
    "import matplotlib.pyplot as plt\n",
    "from datetime import datetime\n",
    "import yfinance as yf \n",
    "import matplotlib.dates as mdates"
   ]
  },
  {
   "cell_type": "code",
   "execution_count": null,
   "metadata": {},
   "outputs": [],
   "source": [
    "### Function to display SMA and EMA\n",
    "\n",
    "def MovingAverageCrossStrategy(stock_symbol = 'ULTRACEMCO.NS', start_date = '2018-01-01', end_date = '2020-01-01', \n",
    "                               short_window = 20, long_window = 50, moving_avg = 'SMA', display_table = True):\n",
    "    '''\n",
    "    The function takes the stock symbol, time-duration of analysis, \n",
    "    look-back periods and the moving-average type(SMA or EMA) as input \n",
    "    and returns the respective MA Crossover chart along with the buy/sell signals for the given period.\n",
    "    '''\n",
    "    # stock_symbol - (str)stock ticker as on Yahoo finance. Eg: 'ULTRACEMCO.NS' \n",
    "    # start_date - (str)start analysis from this date (format: 'YYYY-MM-DD') Eg: '2018-01-01'\n",
    "    # end_date - (str)end analysis on this date (format: 'YYYY-MM-DD') Eg: '2020-01-01'\n",
    "    # short_window - (int)lookback period for short-term moving average. Eg: 5, 10, 20 \n",
    "    # long_window - (int)lookback period for long-term moving average. Eg: 50, 100, 200\n",
    "    # moving_avg - (str)the type of moving average to use ('SMA' or 'EMA')\n",
    "    # display_table - (bool)whether to display the date and price table at buy/sell positions(True/False)\n",
    "\n",
    "    "
   ]
  }
 ],
 "metadata": {
  "kernelspec": {
   "display_name": "base",
   "language": "python",
   "name": "python3"
  },
  "language_info": {
   "codemirror_mode": {
    "name": "ipython",
    "version": 3
   },
   "file_extension": ".py",
   "mimetype": "text/x-python",
   "name": "python",
   "nbconvert_exporter": "python",
   "pygments_lexer": "ipython3",
   "version": "3.8.18"
  }
 },
 "nbformat": 4,
 "nbformat_minor": 2
}
